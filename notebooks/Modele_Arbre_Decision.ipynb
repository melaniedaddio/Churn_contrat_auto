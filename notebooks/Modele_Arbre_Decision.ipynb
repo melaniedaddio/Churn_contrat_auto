{
 "cells": [
  {
   "cell_type": "markdown",
   "id": "e3746323",
   "metadata": {},
   "source": [
    "# 1. Preprocessing"
   ]
  },
  {
   "cell_type": "markdown",
   "id": "de36ee45",
   "metadata": {},
   "source": [
    "## 1.1 Préparation à la modélisation"
   ]
  },
  {
   "cell_type": "markdown",
   "id": "ba5d2208",
   "metadata": {},
   "source": [
    "### 1.1.1 Séparation Apprentissage/test/validation (70% / 15% / 15%)"
   ]
  },
  {
   "cell_type": "markdown",
   "id": "809724b6",
   "metadata": {},
   "source": [
    "⚠️ faire attention au desiquilibre de la variable cible "
   ]
  },
  {
   "cell_type": "code",
   "execution_count": null,
   "id": "5fc74e71",
   "metadata": {},
   "outputs": [],
   "source": []
  },
  {
   "cell_type": "markdown",
   "id": "884b2105",
   "metadata": {},
   "source": [
    "⚠️ ATTENTION pour la normalisation, valeurs manquantes et encodage (target encoding) : \n",
    "- Sur train : on fit + transform. => Parce que c’est l'entraînement qui découvre la structure des données (on entraîne le modèle dessus)\n",
    "- Sur test (ou validation) : on transform uniquement, jamais fit. => Parce que c’est l'entraînement qui découvre la structure des données (on entraîne le modèle dessus)"
   ]
  },
  {
   "cell_type": "markdown",
   "id": "d8775ebb",
   "metadata": {},
   "source": [
    "### 1.1.2 Normalisation des variables continues "
   ]
  },
  {
   "cell_type": "markdown",
   "id": "7a5d77d3",
   "metadata": {},
   "source": [
    "La normalisation des variables continues est utile seulement dans le cas du modèle de regression logistique (surtout si l'ont fait une regularisation par la suite -> ce qui est notre cas). Pour les modèles à base d'arbre ce n'est pas utile car c'est basé sur une méthode de découpe et non de distance.\n",
    "\n",
    "Ici il est necessaire que nous la fassions car nous allons effectuer un traitement des valeur manquantes des variables continues à l'aide des KNN et il est necessaire que nos variables soient normalisées."
   ]
  },
  {
   "cell_type": "code",
   "execution_count": null,
   "id": "56fe6149",
   "metadata": {},
   "outputs": [],
   "source": [
    "# Standar scaler \n",
    "# attention faire fit sur train et transform sur train et test"
   ]
  },
  {
   "cell_type": "markdown",
   "id": "4899b9df",
   "metadata": {},
   "source": [
    "### 1.1.3 Traitement des valeurs manquantes "
   ]
  },
  {
   "cell_type": "markdown",
   "id": "d9e81172",
   "metadata": {},
   "source": [
    "Pour les variables continues il est souvent judicieux de faire les KNN (attention normaliser les données avant de faire un KNN). Pour les variables catégorielles remplacer par une modalité \"unknow\". "
   ]
  },
  {
   "cell_type": "code",
   "execution_count": null,
   "id": "e36697ce",
   "metadata": {},
   "outputs": [],
   "source": [
    "# attention : faire fit sur train et transform sur train et test"
   ]
  },
  {
   "cell_type": "markdown",
   "id": "54810ad7",
   "metadata": {},
   "source": [
    "### 1.1.4 Encodage"
   ]
  },
  {
   "cell_type": "markdown",
   "id": "0e14cb3c",
   "metadata": {},
   "source": [
    "Bien regarder apres analyse si on peut reunir certaines modalités ensembles. Puis : \n",
    "- Pour les variables à moins de 5 modalité faire label encoding ou order encoding (s'il y a un ordre)\n",
    "- Pour les variables à plus de 5 modalité faire CatBoost encoder (TargetEncoder)"
   ]
  },
  {
   "cell_type": "code",
   "execution_count": null,
   "id": "4398371e",
   "metadata": {},
   "outputs": [],
   "source": [
    "# attention : faire fit sur train et transform sur train et test"
   ]
  },
  {
   "cell_type": "code",
   "execution_count": null,
   "id": "111ffa9e",
   "metadata": {},
   "outputs": [],
   "source": []
  },
  {
   "cell_type": "markdown",
   "id": "d85c06f4",
   "metadata": {},
   "source": [
    "# 2. Arbre de décision"
   ]
  },
  {
   "cell_type": "markdown",
   "id": "0fc57ad6",
   "metadata": {},
   "source": [
    "## 2.1 Modelisation simple"
   ]
  },
  {
   "cell_type": "code",
   "execution_count": null,
   "id": "c8801bfa",
   "metadata": {},
   "outputs": [],
   "source": []
  },
  {
   "cell_type": "markdown",
   "id": "ded591e5",
   "metadata": {},
   "source": [
    "## 2.2 Optimisation "
   ]
  },
  {
   "cell_type": "code",
   "execution_count": null,
   "id": "43e66eed",
   "metadata": {},
   "outputs": [],
   "source": []
  },
  {
   "cell_type": "markdown",
   "id": "2084bdab",
   "metadata": {},
   "source": [
    "## 2.3 Déterminer un seuil (approche métier)"
   ]
  },
  {
   "cell_type": "code",
   "execution_count": null,
   "id": "9ce1cb29",
   "metadata": {},
   "outputs": [],
   "source": []
  }
 ],
 "metadata": {
  "language_info": {
   "name": "python"
  }
 },
 "nbformat": 4,
 "nbformat_minor": 5
}
