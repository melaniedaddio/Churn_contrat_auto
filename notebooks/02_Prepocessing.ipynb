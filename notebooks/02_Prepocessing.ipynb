{
 "cells": [
  {
   "cell_type": "markdown",
   "id": "6289ea5c",
   "metadata": {},
   "source": [
    "# 1. Discretisation des variables continues "
   ]
  },
  {
   "cell_type": "markdown",
   "id": "7b1134bb",
   "metadata": {},
   "source": [
    "Cela peut permettre de capter les liens non linéaires qui peuvent exister entre la variable explicative continue et la variable cible. Cela est surtout pour notre modèle de regression logistique; Pour les modèles à base d'arbre cela n'est pas nécessairemebt utile puisque par construction, ils feront eux-mêmes les découpages (i.e. la discrétisation). Néanmoins, cela peut rester intéressant"
   ]
  },
  {
   "cell_type": "code",
   "execution_count": null,
   "id": "0e68c5b9",
   "metadata": {},
   "outputs": [],
   "source": []
  },
  {
   "cell_type": "markdown",
   "id": "542f2cfe",
   "metadata": {},
   "source": [
    "# 2. Préparation à la modélisation"
   ]
  },
  {
   "cell_type": "markdown",
   "id": "9391695b",
   "metadata": {},
   "source": [
    "## 2.1 Séparation Apprentissage/test"
   ]
  },
  {
   "cell_type": "markdown",
   "id": "2110cf2f",
   "metadata": {},
   "source": [
    "⚠️ faire attention au desiquilibre de la variable cible "
   ]
  },
  {
   "cell_type": "code",
   "execution_count": null,
   "id": "4e846a46",
   "metadata": {},
   "outputs": [],
   "source": []
  },
  {
   "cell_type": "markdown",
   "id": "6f52a13d",
   "metadata": {},
   "source": [
    "⚠️ ATTENTION pour la normalisation, valeurs manquantes et encodage (target encoding) : \n",
    "- Sur train : on fit + transform. => Parce que c’est l'entraînement qui découvre la structure des données (on entraîne le modèle dessus)\n",
    "- Sur test (ou validation) : on transform uniquement, jamais fit. => Parce que c’est l'entraînement qui découvre la structure des données (on entraîne le modèle dessus)"
   ]
  },
  {
   "cell_type": "markdown",
   "id": "0784696b",
   "metadata": {},
   "source": [
    "## 2.2 Normalisation des variables continues "
   ]
  },
  {
   "cell_type": "markdown",
   "id": "f518c193",
   "metadata": {},
   "source": [
    "La normalisation des variables continues est utile seulement dans le cas du modèle de regression logistique (surotut si l'ont fait une regularisation par la suite -> ce qui est notre cas). Pour les modèles à base d'arbre ce n'est pas utile car c'est basé sur une méthode de découpe et non de distance.\n",
    "\n",
    "Dans notre cas nous allons tout de meme la faire car cela ne changera rien aux resultats pour les modèles d'arbre. De plus il est aussi necessaire que nous la fassions car nous allons effectuer un traitement des valeur manquantes des variables continues à l'aide des KNN et il est necessaire que nos variables soient normalisées."
   ]
  },
  {
   "cell_type": "code",
   "execution_count": null,
   "id": "958a1784",
   "metadata": {},
   "outputs": [],
   "source": [
    "# Standar scaler \n",
    "# attention faire fit sur train et transform sur train et test"
   ]
  },
  {
   "cell_type": "markdown",
   "id": "654fca80",
   "metadata": {},
   "source": [
    "## 2.3 Traitement des valeurs manquantes "
   ]
  },
  {
   "cell_type": "markdown",
   "id": "94217abb",
   "metadata": {},
   "source": [
    "Pour les variables continues il est souvent judicieux de faire les KNN (attention normaliser les données avant de faire un KNN). Pour les variables catégorielles remplacer par une modalité \"unknow\". "
   ]
  },
  {
   "cell_type": "code",
   "execution_count": null,
   "id": "05ab3eeb",
   "metadata": {},
   "outputs": [],
   "source": [
    "# attention : faire fit sur train et transform sur train et test"
   ]
  },
  {
   "cell_type": "markdown",
   "id": "d881accb",
   "metadata": {},
   "source": [
    "## 2.4 Encodage"
   ]
  },
  {
   "cell_type": "markdown",
   "id": "a3bb712e",
   "metadata": {},
   "source": [
    "Bien regarder apres analyse si on peut reunir certaines modalités ensembles. Puis : \n",
    "- Pour les variables à moins de 4 modalité faire label encoding ou order encoding (s'il y a un ordre)\n",
    "- Pour les variables à plus de 4 modalité faire CatBoost encoder"
   ]
  },
  {
   "cell_type": "code",
   "execution_count": null,
   "id": "d0f2a696",
   "metadata": {},
   "outputs": [],
   "source": [
    "# attention : faire fit sur train et transform sur train et test"
   ]
  },
  {
   "cell_type": "code",
   "execution_count": null,
   "id": "dcfbcf51",
   "metadata": {},
   "outputs": [],
   "source": []
  }
 ],
 "metadata": {
  "language_info": {
   "name": "python"
  }
 },
 "nbformat": 4,
 "nbformat_minor": 5
}
