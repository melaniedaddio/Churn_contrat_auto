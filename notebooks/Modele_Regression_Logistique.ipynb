{
 "cells": [
  {
   "cell_type": "markdown",
   "id": "41e2361b",
   "metadata": {},
   "source": [
    "# 1. Preprocessing"
   ]
  },
  {
   "cell_type": "markdown",
   "id": "860dcae9",
   "metadata": {},
   "source": [
    "## 1.1 Discretisation des variables continues "
   ]
  },
  {
   "cell_type": "markdown",
   "id": "457d7d8d",
   "metadata": {},
   "source": [
    "Cela peut permettre de capter les liens non linéaires qui peuvent exister entre la variable explicative continue et la variable cible. Cela est surtout pour notre modèle de regression logistique; Pour les modèles à base d'arbre cela n'est pas nécessairemebt utile puisque par construction, ils feront eux-mêmes les découpages (i.e. la discrétisation). Néanmoins, cela peut rester intéressant"
   ]
  },
  {
   "cell_type": "code",
   "execution_count": null,
   "id": "fec5449f",
   "metadata": {},
   "outputs": [],
   "source": []
  },
  {
   "cell_type": "markdown",
   "id": "d8c6abfd",
   "metadata": {},
   "source": [
    "## 1.2 Préparation à la modélisation"
   ]
  },
  {
   "cell_type": "markdown",
   "id": "ebaa9aba",
   "metadata": {},
   "source": [
    "### 1.2.1 Séparation Apprentissage/test/validation (70% / 15% / 15%)"
   ]
  },
  {
   "cell_type": "markdown",
   "id": "75d8915f",
   "metadata": {},
   "source": [
    "⚠️ faire attention au desiquilibre de la variable cible "
   ]
  },
  {
   "cell_type": "code",
   "execution_count": null,
   "id": "c030ed84",
   "metadata": {},
   "outputs": [],
   "source": []
  },
  {
   "cell_type": "markdown",
   "id": "ef97637e",
   "metadata": {},
   "source": [
    "⚠️ ATTENTION pour la normalisation, valeurs manquantes et encodage (target encoding) : \n",
    "- Sur train : on fit + transform. => Parce que c’est l'entraînement qui découvre la structure des données (on entraîne le modèle dessus)\n",
    "- Sur test (ou validation) : on transform uniquement, jamais fit. => Parce que c’est l'entraînement qui découvre la structure des données (on entraîne le modèle dessus)"
   ]
  },
  {
   "cell_type": "markdown",
   "id": "63c88a1d",
   "metadata": {},
   "source": [
    "### 1.2.2 Normalisation des variables continues "
   ]
  },
  {
   "cell_type": "markdown",
   "id": "62182de8",
   "metadata": {},
   "source": [
    "La normalisation des variables continues est utile seulement dans le cas du modèle de regression logistique (surtout si l'ont fait une regularisation par la suite -> ce qui est notre cas). Pour les modèles à base d'arbre ce n'est pas utile car c'est basé sur une méthode de découpe et non de distance.\n",
    "\n",
    "De plus il est aussi necessaire que nous la fassions car nous allons effectuer un traitement des valeur manquantes des variables continues à l'aide des KNN et il est necessaire que nos variables soient normalisées."
   ]
  },
  {
   "cell_type": "code",
   "execution_count": null,
   "id": "de4a6fcd",
   "metadata": {},
   "outputs": [],
   "source": [
    "# Standar scaler \n",
    "# attention faire fit sur train et transform sur train et test"
   ]
  },
  {
   "cell_type": "markdown",
   "id": "832eb833",
   "metadata": {},
   "source": [
    "### 1.2.3 Traitement des valeurs manquantes "
   ]
  },
  {
   "cell_type": "markdown",
   "id": "8d04d9c2",
   "metadata": {},
   "source": [
    "Pour les variables continues il est souvent judicieux de faire les KNN (attention normaliser les données avant de faire un KNN). Pour les variables catégorielles remplacer par une modalité \"unknow\". "
   ]
  },
  {
   "cell_type": "code",
   "execution_count": null,
   "id": "e5562dad",
   "metadata": {},
   "outputs": [],
   "source": [
    "# attention : faire fit sur train et transform sur train et test"
   ]
  },
  {
   "cell_type": "markdown",
   "id": "680d214f",
   "metadata": {},
   "source": [
    "### 1.2.4 Encodage"
   ]
  },
  {
   "cell_type": "markdown",
   "id": "f5c91614",
   "metadata": {},
   "source": [
    "Bien regarder apres analyse si on peut reunir certaines modalités ensembles. Puis : \n",
    "- Pour les variables à moins de 5 modalité faire one hot encoding ou order encoding (s'il y a un ordre)\n",
    "- Pour les variables à plus de 5 modalité faire CatBoost encoder (TargetEncoder)\n",
    "_Pour les "
   ]
  },
  {
   "cell_type": "code",
   "execution_count": null,
   "id": "967f6567",
   "metadata": {},
   "outputs": [],
   "source": [
    "# attention : faire fit sur train et transform sur train et test"
   ]
  },
  {
   "cell_type": "code",
   "execution_count": null,
   "id": "3153f7e7",
   "metadata": {},
   "outputs": [],
   "source": []
  },
  {
   "cell_type": "markdown",
   "id": "61c928a5",
   "metadata": {},
   "source": [
    "# 2. Régression logistique"
   ]
  },
  {
   "cell_type": "markdown",
   "id": "170adfcd",
   "metadata": {},
   "source": [
    "## 2.1 Selection de variables"
   ]
  },
  {
   "cell_type": "markdown",
   "id": "de7a8832",
   "metadata": {},
   "source": [
    "Ce type de modèle contraireemnt aux modèles \"d'arbres\" nécessitent une selection de variables. Pour ce faire nous allons dans un prmeier temps se baser sur les variables qui nous ont paru pertinentes au cour de notre data exploration. Puis nous comparerons les selection de variables avec Lasso, Ridge et Elastic Net."
   ]
  },
  {
   "cell_type": "markdown",
   "id": "32d337f1",
   "metadata": {},
   "source": [
    "### 2.1.1 Sélection de variables à l'aide de : l'analyse exploratoire"
   ]
  },
  {
   "cell_type": "code",
   "execution_count": null,
   "id": "c2616c09",
   "metadata": {},
   "outputs": [],
   "source": []
  },
  {
   "cell_type": "code",
   "execution_count": null,
   "id": "2548a24f",
   "metadata": {},
   "outputs": [],
   "source": []
  },
  {
   "cell_type": "markdown",
   "id": "f65b5ac3",
   "metadata": {},
   "source": [
    "### 2.1.2 Selection de variables à l'aide de Lasso, Ridge et Elastic Net"
   ]
  },
  {
   "cell_type": "code",
   "execution_count": null,
   "id": "c1ade4a2",
   "metadata": {},
   "outputs": [],
   "source": []
  },
  {
   "cell_type": "markdown",
   "id": "1322b2bb",
   "metadata": {},
   "source": [
    "## 2.2 Modelisation simple "
   ]
  },
  {
   "cell_type": "code",
   "execution_count": null,
   "id": "e879999e",
   "metadata": {},
   "outputs": [],
   "source": []
  },
  {
   "cell_type": "markdown",
   "id": "733f74bd",
   "metadata": {},
   "source": [
    "## 2.3 Optimisation"
   ]
  },
  {
   "cell_type": "code",
   "execution_count": null,
   "id": "ead8c919",
   "metadata": {},
   "outputs": [],
   "source": []
  },
  {
   "cell_type": "markdown",
   "id": "d820388e",
   "metadata": {},
   "source": [
    "## 2.4 Déterminer un seuil (approche métier)"
   ]
  },
  {
   "cell_type": "code",
   "execution_count": null,
   "id": "52ded3b5",
   "metadata": {},
   "outputs": [],
   "source": []
  }
 ],
 "metadata": {
  "language_info": {
   "name": "python"
  }
 },
 "nbformat": 4,
 "nbformat_minor": 5
}
