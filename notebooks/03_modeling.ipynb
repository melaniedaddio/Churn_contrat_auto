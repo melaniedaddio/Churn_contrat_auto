{
 "cells": [
  {
   "cell_type": "markdown",
   "id": "9374a60c",
   "metadata": {},
   "source": [
    "# 📌 Résumé\n",
    "\n",
    "## 🔍 Modèles utilisés\n",
    "\n",
    "1. **Régression logistique**  \n",
    "   Modèle de base simple et rapide à entraîner. Très utile comme point de comparaison.  \n",
    "   - ✅ Interprétable : les coefficients indiquent l’influence de chaque variable. (utile dans un contexte metier)\n",
    "   - ✅ Performant sur des données linéairement séparables.\n",
    "   - ❌ Peut être limité si les relations entre variables sont non linéaires.\n",
    "\n",
    "2. **Arbre de décision**  \n",
    "   Méthode intuitive qui segmente l’espace de décision via des règles simples.  \n",
    "   - ✅ Facilement lisible et interprétable.\n",
    "   - ✅ Capacité à identifier les variables les plus importantes.\n",
    "   - ❌ Risque de surapprentissage s’il n’est pas bien régularisé.\n",
    "\n",
    "3. **Random Forest**  \n",
    "   Ensemble d’arbres de décision créés à partir de sous-échantillons aléatoires des données.  \n",
    "   - ✅ Réduit le surapprentissage grâce à l’agrégation (bagging).\n",
    "   - ✅ Généralement plus robuste et performant qu’un arbre unique.\n",
    "   - ✅ Moins coûteux en calcul et plus facile à paramétrer qu’un modèle comme XGBoost.\n",
    "   - ❌ Moins interprétable qu’un arbre simple, mais on peut extraire l’importance des variables.\n",
    "\n",
    "---\n",
    "\n",
    "## 🎯 Objectif d'optimisation : le **F1-score**\n",
    "\n",
    "L'objectif est de prédire quels clients vont **résilier**.\n",
    "Nous avons choisi d'optimiser le **F1-Score**\n",
    "\n",
    "- **Précision** = parmi les clients que le modèle prédit comme \"à risque\", combien le sont réellement ?\n",
    "- **Rappel** = parmi les clients qui vont réellement résilier, combien le modèle arrive-t-il à détecter ?\n",
    "\n",
    "Optimiser uniquement la précision :\n",
    "- ➕ Moins de faux positifs.\n",
    "- ➖ Mais risque de rater beaucoup de vrais résiliants.\n",
    "\n",
    "Optimiser uniquement le rappel :\n",
    "- ➕ On identifie la majorité des vrais résiliants.\n",
    "- ➖ Mais on cible aussi beaucoup de clients à tort (faux positifs), ce qui coûte cher.\n",
    "\n",
    "👉 **F1-score = compromis entre précision et rappel**  \n",
    "C’est une métrique équilibrée, idéale dans notre cas où :\n",
    "- Les classes sont déséquilibrées ainsi l'accuracy n'est pas réellement interpretable.\n",
    "- Les **faux négatifs** (clients à risque non détectés) et les **faux positifs** (clients mal classés) ont **tous deux un impact business important**.\n",
    "\n",
    "---\n",
    "\n",
    "## ⚙️ Optimisation des hyperparamètres\n",
    "\n",
    "Pour améliorer les performances des modèles, plusieurs méthodes ont été utilisées :\n",
    "\n",
    "1. **Recherche par grille (Grid Search)**  \n",
    "   - Explore toutes les combinaisons possibles de paramètres dans un espace défini.\n",
    "\n",
    "2. **Recherche aléatoire (Random Search)**  \n",
    "   - Tire au hasard des combinaisons dans l’espace des paramètres. Plus rapide que Grid Search dans de nombreux cas.\n",
    "\n",
    "3. **Optimisation bayésienne**  \n",
    "   - Utilise les résultats précédents pour choisir plus intelligemment les combinaisons suivantes.\n",
    "   - Plus efficace et économe en calcul, surtout avec des modèles coûteux à entraîner.\n",
    "\n"
   ]
  },
  {
   "cell_type": "markdown",
   "id": "77f56f99",
   "metadata": {},
   "source": [
    "# 1. Régression logistique"
   ]
  },
  {
   "cell_type": "markdown",
   "id": "e3d1922d",
   "metadata": {},
   "source": [
    "## 1.1 Selection de variables"
   ]
  },
  {
   "cell_type": "markdown",
   "id": "9cbd92bb",
   "metadata": {},
   "source": [
    "Ce type de modèle contraireemnt aux modèles \"d'arbres\" nécessitent une selection de variables. Pour ce faire nous allons dans un prmeier temps se baser sur les variables qui nous ont paru pertinentes au cour de notre data exploration. Puis nous comparerons les selection de variables avec Lasso, Ridge et Elastic Net."
   ]
  },
  {
   "cell_type": "markdown",
   "id": "aed2dddc",
   "metadata": {},
   "source": [
    "### 1.1.1 Sélection de variables à l'aide de : l'analyse exploratoire"
   ]
  },
  {
   "cell_type": "code",
   "execution_count": null,
   "id": "e15e7dff",
   "metadata": {},
   "outputs": [],
   "source": []
  },
  {
   "cell_type": "code",
   "execution_count": null,
   "id": "b9ec29dc",
   "metadata": {},
   "outputs": [],
   "source": []
  },
  {
   "cell_type": "markdown",
   "id": "e5cd5f09",
   "metadata": {},
   "source": [
    "### 1.1.2 Selection de variables à l'aide de Lasso, Ridge et Elastic Net"
   ]
  },
  {
   "cell_type": "code",
   "execution_count": null,
   "id": "b5806455",
   "metadata": {},
   "outputs": [],
   "source": []
  },
  {
   "cell_type": "markdown",
   "id": "3a918820",
   "metadata": {},
   "source": [
    "## 1.2 Modelisation simple "
   ]
  },
  {
   "cell_type": "code",
   "execution_count": null,
   "id": "91086159",
   "metadata": {},
   "outputs": [],
   "source": []
  },
  {
   "cell_type": "markdown",
   "id": "becfa147",
   "metadata": {},
   "source": [
    "## 1.3 Optimisation"
   ]
  },
  {
   "cell_type": "markdown",
   "id": "218f53a1",
   "metadata": {},
   "source": []
  },
  {
   "cell_type": "markdown",
   "id": "42f515da",
   "metadata": {},
   "source": [
    "## 1.4 Déterminer un seuil (approche métier)"
   ]
  },
  {
   "cell_type": "code",
   "execution_count": null,
   "id": "aa055177",
   "metadata": {},
   "outputs": [],
   "source": []
  },
  {
   "cell_type": "markdown",
   "id": "4247b2f6",
   "metadata": {},
   "source": [
    "# 2. Arbre de décision"
   ]
  },
  {
   "cell_type": "markdown",
   "id": "a2c18c1e",
   "metadata": {},
   "source": [
    "## 2.1 Modelisation simple"
   ]
  },
  {
   "cell_type": "code",
   "execution_count": null,
   "id": "f5dd8f3f",
   "metadata": {},
   "outputs": [],
   "source": []
  },
  {
   "cell_type": "markdown",
   "id": "94ffbdbb",
   "metadata": {},
   "source": [
    "## 2.2 Optimisation "
   ]
  },
  {
   "cell_type": "code",
   "execution_count": null,
   "id": "8b4af961",
   "metadata": {},
   "outputs": [],
   "source": []
  },
  {
   "cell_type": "markdown",
   "id": "82e5d346",
   "metadata": {},
   "source": [
    "## 2.3 Déterminer un seuil (approche métier)"
   ]
  },
  {
   "cell_type": "code",
   "execution_count": null,
   "id": "17cf9590",
   "metadata": {},
   "outputs": [],
   "source": []
  },
  {
   "cell_type": "markdown",
   "id": "9f882a77",
   "metadata": {},
   "source": [
    "# 3. Modèle à base d'arbres "
   ]
  },
  {
   "cell_type": "markdown",
   "id": "b266b5ca",
   "metadata": {},
   "source": [
    "⚠️ Soit on fait qu'un random forest qui est suffisant. Soit on fait comme dans le notebook du prof et on compare \"Random Forest\", \"Gradient Boosting\", \"LightGBM\"."
   ]
  },
  {
   "cell_type": "markdown",
   "id": "ec5afe5f",
   "metadata": {},
   "source": [
    "## 3.1 Modelisation simple "
   ]
  },
  {
   "cell_type": "code",
   "execution_count": null,
   "id": "6c163ab8",
   "metadata": {},
   "outputs": [],
   "source": []
  },
  {
   "cell_type": "markdown",
   "id": "8662314e",
   "metadata": {},
   "source": [
    "## 3.2 Optimisation"
   ]
  },
  {
   "cell_type": "code",
   "execution_count": null,
   "id": "f973d5f3",
   "metadata": {},
   "outputs": [],
   "source": []
  },
  {
   "cell_type": "markdown",
   "id": "a54dece6",
   "metadata": {},
   "source": [
    "## 3.3 Déterminer un seuil (approche métier)"
   ]
  },
  {
   "cell_type": "code",
   "execution_count": null,
   "id": "81e1d33a",
   "metadata": {},
   "outputs": [],
   "source": []
  }
 ],
 "metadata": {
  "language_info": {
   "name": "python"
  }
 },
 "nbformat": 4,
 "nbformat_minor": 5
}
